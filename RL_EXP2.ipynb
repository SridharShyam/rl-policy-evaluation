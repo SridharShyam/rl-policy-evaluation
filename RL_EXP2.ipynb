{
  "nbformat": 4,
  "nbformat_minor": 0,
  "metadata": {
    "colab": {
      "provenance": []
    },
    "kernelspec": {
      "name": "python3",
      "display_name": "Python 3"
    },
    "language_info": {
      "name": "python"
    }
  },
  "cells": [
    {
      "cell_type": "code",
      "execution_count": null,
      "metadata": {
        "id": "uR1Mz6O0W5nb"
      },
      "outputs": [],
      "source": [
        "import numpy as np\n",
        "def policy_evaluation(pi,P,gamma=0.1,theta=1e-10):\n",
        "  prev_v=np.zeros(len(P))\n",
        "  while True:\n",
        "    V=np.zeros(len(P))\n",
        "    for s in range(len(P)):\n",
        "      for prob, next_state,reward,done in P[s][pi(s)]:\n",
        "        V[s]+=prob*(reward+gamma*prev_v[next_state]*(not done))\n",
        "    if np.max(np.abs(prev_v-V))<theta:\n",
        "      break\n",
        "    prev_v=V.copy()\n",
        "  return V"
      ]
    },
    {
      "cell_type": "code",
      "source": [
        "!pip install gym\n",
        "!pip install git+https://github.com/mimoralea/gym-walk"
      ],
      "metadata": {
        "colab": {
          "base_uri": "https://localhost:8080/"
        },
        "id": "aycvBwpxiI1n",
        "outputId": "220efbc9-d290-4704-9936-a9d41f6d634a"
      },
      "execution_count": null,
      "outputs": [
        {
          "output_type": "stream",
          "name": "stdout",
          "text": [
            "Requirement already satisfied: gym in /usr/local/lib/python3.10/dist-packages (0.25.2)\n",
            "Requirement already satisfied: numpy>=1.18.0 in /usr/local/lib/python3.10/dist-packages (from gym) (1.26.4)\n",
            "Requirement already satisfied: cloudpickle>=1.2.0 in /usr/local/lib/python3.10/dist-packages (from gym) (2.2.1)\n",
            "Requirement already satisfied: gym-notices>=0.0.4 in /usr/local/lib/python3.10/dist-packages (from gym) (0.0.8)\n",
            "Collecting git+https://github.com/mimoralea/gym-walk\n",
            "  Cloning https://github.com/mimoralea/gym-walk to /tmp/pip-req-build-740stdz1\n",
            "  Running command git clone --filter=blob:none --quiet https://github.com/mimoralea/gym-walk /tmp/pip-req-build-740stdz1\n",
            "  Resolved https://github.com/mimoralea/gym-walk to commit 5999016267d6de2f5a63307fb00dfd63de319ac1\n",
            "  Preparing metadata (setup.py) ... \u001b[?25l\u001b[?25hdone\n",
            "Requirement already satisfied: gym in /usr/local/lib/python3.10/dist-packages (from gym_walk==0.0.2) (0.25.2)\n",
            "Requirement already satisfied: numpy>=1.18.0 in /usr/local/lib/python3.10/dist-packages (from gym->gym_walk==0.0.2) (1.26.4)\n",
            "Requirement already satisfied: cloudpickle>=1.2.0 in /usr/local/lib/python3.10/dist-packages (from gym->gym_walk==0.0.2) (2.2.1)\n",
            "Requirement already satisfied: gym-notices>=0.0.4 in /usr/local/lib/python3.10/dist-packages (from gym->gym_walk==0.0.2) (0.0.8)\n",
            "Building wheels for collected packages: gym_walk\n",
            "  Building wheel for gym_walk (setup.py) ... \u001b[?25l\u001b[?25hdone\n",
            "  Created wheel for gym_walk: filename=gym_walk-0.0.2-py3-none-any.whl size=4058 sha256=0627e304998f6472ebb54a3ba2a9d9b6cf44ea2d7e30dcf011300f1a728e732d\n",
            "  Stored in directory: /tmp/pip-ephem-wheel-cache-8_no2s87/wheels/24/fe/c4/0cbc7511d29265bad7e28a09311db3f87f0cafba74af54d530\n",
            "Successfully built gym_walk\n",
            "Installing collected packages: gym_walk\n",
            "Successfully installed gym_walk-0.0.2\n"
          ]
        }
      ]
    },
    {
      "cell_type": "code",
      "source": [
        "import warnings ; warnings.filterwarnings('ignore')\n",
        "\n",
        "import gym, gym_walk\n",
        "import numpy as np\n",
        "\n",
        "import random\n",
        "import warnings\n",
        "\n",
        "warnings.filterwarnings('ignore', category=DeprecationWarning)\n",
        "np.set_printoptions(suppress=True)\n",
        "random.seed(123); np.random.seed(123)\n",
        "\n",
        "\n",
        "\n",
        "def print_policy(pi, P, action_symbols=('<', 'v', '>', '^'), n_cols=4, title='Policy:'):\n",
        "    print(title)\n",
        "    arrs = {k:v for k,v in enumerate(action_symbols)}\n",
        "    for s in range(len(P)):\n",
        "        a = pi(s)\n",
        "        print(\"| \", end=\"\")\n",
        "        if np.all([done for action in P[s].values() for _, _, _, done in action]):\n",
        "            print(\"\".rjust(9), end=\" \")\n",
        "        else:\n",
        "            print(str(s).zfill(2), arrs[a].rjust(6), end=\" \")\n",
        "        if (s + 1) % n_cols == 0: print(\"|\")\n",
        "\n",
        "\n",
        "def print_state_value_function(V, P, n_cols=4, prec=3, title='State-value function:'):\n",
        "    print(title)\n",
        "    for s in range(len(P)):\n",
        "        v = V[s]\n",
        "        print(\"| \", end=\"\")\n",
        "        if np.all([done for action in P[s].values() for _, _, _, done in action]):\n",
        "            print(\"\".rjust(9), end=\" \")\n",
        "        else:\n",
        "            print(str(s).zfill(2), '{}'.format(np.round(v, prec)).rjust(6), end=\" \")\n",
        "        if (s + 1) % n_cols == 0: print(\"|\")\n",
        "\n",
        "\n",
        "def probability_success(env, pi, goal_state, n_episodes=100, max_steps=200):\n",
        "    random.seed(123); np.random.seed(123) ; env.seed(123)\n",
        "    results = []\n",
        "    for _ in range(n_episodes):\n",
        "        state, done, steps = env.reset(), False, 0\n",
        "        while not done and steps < max_steps:\n",
        "            state, _, done, h = env.step(pi(state))\n",
        "            steps += 1\n",
        "        results.append(state == goal_state)\n",
        "    return np.sum(results)/len(results)\n",
        "\n",
        "\n",
        "def mean_return(env, pi, n_episodes=100, max_steps=200):\n",
        "    random.seed(123); np.random.seed(123) ; env.seed(123)\n",
        "    results = []\n",
        "    for _ in range(n_episodes):\n",
        "        state, done, steps = env.reset(), False, 0\n",
        "        results.append(0.0)\n",
        "        while not done and steps < max_steps:\n",
        "            state, reward, done, _ = env.step(pi(state))\n",
        "            results[-1] += reward\n",
        "            steps += 1\n",
        "    return np.mean(results)\n",
        "\n",
        "\n",
        "\n",
        "env = gym.make('SlipperyWalkFive-v0')\n",
        "P = env.env.P\n",
        "init_state = env.reset()\n",
        "goal_state = 6\n",
        "LEFT, RIGHT = range(2)\n",
        "\n",
        "\n",
        "P\n",
        "\n",
        "\n",
        "init_state\n",
        "\n",
        "\n",
        "state, reward, done, info = env.step(RIGHT)\n",
        "print(\"state:{0} - reward:{1} - done:{2} - info:{3}\".format(state, reward, done, info))\n",
        "\n",
        "\n",
        "# First Policy\n",
        "pi_1 = lambda s: {\n",
        "    0:LEFT, 1:LEFT, 2:LEFT, 3:LEFT, 4:LEFT, 5:LEFT, 6:LEFT\n",
        "}[s]\n",
        "print_policy(pi_1, P, action_symbols=('<', '>'), n_cols=7)\n",
        "\n",
        "\n",
        "# Find the probability of success and the mean return of the first policy\n",
        "print('Reaches goal {:.2f}%. Obtains an average undiscounted return of {:.4f}.'.format(\n",
        "    probability_success(env, pi_1, goal_state=goal_state)*100,\n",
        "    mean_return(env, pi_1)))\n",
        "\n",
        "# Second Policy\n",
        "pi_2 = lambda s: {\n",
        "    0:RIGHT, 1:RIGHT, 2:LEFT, 3:RIGHT, 4:RIGHT, 5:LEFT, 6:RIGHT\n",
        "}[s]\n",
        "print_policy(pi_2, P, action_symbols=('<', '>'), n_cols=7)\n",
        "\n",
        "# Find the probability of success and the mean return of you your policy\n",
        "print('Reaches goal {:.2f}%. Obtains an average undiscounted return of {:.4f}.'.format(\n",
        "    probability_success(env, pi_2, goal_state=goal_state)*100,\n",
        "    mean_return(env, pi_2)))\n",
        "\n",
        "\n",
        "\n",
        "# Compare your policy with the first policy\n",
        "\n",
        "\n",
        "def policy_evaluation(pi,P,gamma=0.1,theta=1e-10):\n",
        "  prev_v=np.zeros(len(P))\n",
        "  while True:\n",
        "    V=np.zeros(len(P))\n",
        "    for s in range(len(P)):\n",
        "      for prob, next_state,reward,done in P[s][pi(s)]:\n",
        "        V[s]+=prob*(reward+gamma*prev_v[next_state]*(not done))\n",
        "    if np.max(np.abs(prev_v-V))<theta:\n",
        "      break\n",
        "    prev_v=V.copy()\n",
        "  return V\n",
        "\n"
      ],
      "metadata": {
        "colab": {
          "base_uri": "https://localhost:8080/"
        },
        "id": "AL_9CVkBiFRa",
        "outputId": "3e117c6f-10f8-43f7-c1cc-a8370133ed37"
      },
      "execution_count": null,
      "outputs": [
        {
          "output_type": "stream",
          "name": "stdout",
          "text": [
            "state:2 - reward:0.0 - done:False - info:{'prob': 0.16666666666666666}\n",
            "Policy:\n",
            "|           | 01      < | 02      < | 03      < | 04      < | 05      < |           |\n",
            "Reaches goal 3.00%. Obtains an average undiscounted return of 0.0300.\n",
            "Policy:\n",
            "|           | 01      > | 02      < | 03      > | 04      > | 05      < |           |\n",
            "Reaches goal 73.00%. Obtains an average undiscounted return of 0.7300.\n"
          ]
        }
      ]
    },
    {
      "cell_type": "code",
      "source": [
        "# Code to evaluate the first policy\n",
        "V1 = policy_evaluation(pi_1, P)\n",
        "print_state_value_function(V1, P, n_cols=7, prec=5)\n",
        "\n",
        "V2 = policy_evaluation(pi_2, P)\n",
        "print_state_value_function(V2, P, n_cols=7, prec=5)\n",
        "\n",
        "\n"
      ],
      "metadata": {
        "colab": {
          "base_uri": "https://localhost:8080/"
        },
        "id": "2bfUEkI5nmAX",
        "outputId": "4fafe665-3134-4689-c418-3ace0919659b"
      },
      "execution_count": null,
      "outputs": [
        {
          "output_type": "stream",
          "name": "stdout",
          "text": [
            "State-value function:\n",
            "|           | 01    0.0 | 02    0.0 | 03  5e-05 | 04 0.00298 | 05 0.17257 |           |\n",
            "State-value function:\n",
            "|           | 01    0.0 | 02  1e-05 | 03 0.00046 | 04 0.00895 | 05 0.17288 |           |\n"
          ]
        }
      ]
    },
    {
      "cell_type": "code",
      "source": [
        "if(np.sum(V1>=V2)==7):\n",
        "  print(\"The first policy is the better policy\")\n",
        "elif(np.sum(V2>=V1)==7):\n",
        "  print(\"The second policy is the better policy\")\n",
        "else:\n",
        "  print(\"Both policies have their merits.\")"
      ],
      "metadata": {
        "colab": {
          "base_uri": "https://localhost:8080/"
        },
        "id": "uiqqqkW_nyNo",
        "outputId": "a4caba09-da65-49ae-e37d-f38578564378"
      },
      "execution_count": null,
      "outputs": [
        {
          "output_type": "stream",
          "name": "stdout",
          "text": [
            "The second policy is the better policy\n"
          ]
        }
      ]
    }
  ]
}